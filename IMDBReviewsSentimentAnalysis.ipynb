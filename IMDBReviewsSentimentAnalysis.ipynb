{
  "cells": [
    {
      "cell_type": "markdown",
      "metadata": {
        "id": "view-in-github",
        "colab_type": "text"
      },
      "source": [
        "<a href=\"https://colab.research.google.com/github/Nikhithanicky/demo/blob/main/IMDBReviewsSentimentAnalysis.ipynb\" target=\"_parent\"><img src=\"https://colab.research.google.com/assets/colab-badge.svg\" alt=\"Open In Colab\"/></a>"
      ]
    },
    {
      "cell_type": "code",
      "execution_count": 49,
      "id": "0d8004ec",
      "metadata": {
        "id": "0d8004ec"
      },
      "outputs": [],
      "source": [
        "import pandas as pd"
      ]
    },
    {
      "cell_type": "code",
      "execution_count": 50,
      "id": "2ec0c26b",
      "metadata": {
        "id": "2ec0c26b"
      },
      "outputs": [],
      "source": [
        "import re"
      ]
    },
    {
      "cell_type": "code",
      "execution_count": 51,
      "id": "b0f2d01a",
      "metadata": {
        "id": "b0f2d01a"
      },
      "outputs": [],
      "source": [
        "file=pd.read_csv('/content/data.csv')"
      ]
    },
    {
      "cell_type": "code",
      "execution_count": 52,
      "id": "e152f672",
      "metadata": {
        "colab": {
          "base_uri": "https://localhost:8080/",
          "height": 206
        },
        "id": "e152f672",
        "outputId": "9c1d7292-c2e0-4106-8a6e-929805a3828e"
      },
      "outputs": [
        {
          "output_type": "execute_result",
          "data": {
            "text/plain": [
              "                                              review sentiment\n",
              "0  One of the other reviewers has mentioned that ...  positive\n",
              "1  A wonderful little production. <br /><br />The...  positive\n",
              "2  I thought this was a wonderful way to spend ti...  positive\n",
              "3  Basically there's a family where a little boy ...  negative\n",
              "4  Petter Mattei's \"Love in the Time of Money\" is...  positive"
            ],
            "text/html": [
              "\n",
              "  <div id=\"df-edce05a3-a97f-4772-b312-d1d2e22706ca\" class=\"colab-df-container\">\n",
              "    <div>\n",
              "<style scoped>\n",
              "    .dataframe tbody tr th:only-of-type {\n",
              "        vertical-align: middle;\n",
              "    }\n",
              "\n",
              "    .dataframe tbody tr th {\n",
              "        vertical-align: top;\n",
              "    }\n",
              "\n",
              "    .dataframe thead th {\n",
              "        text-align: right;\n",
              "    }\n",
              "</style>\n",
              "<table border=\"1\" class=\"dataframe\">\n",
              "  <thead>\n",
              "    <tr style=\"text-align: right;\">\n",
              "      <th></th>\n",
              "      <th>review</th>\n",
              "      <th>sentiment</th>\n",
              "    </tr>\n",
              "  </thead>\n",
              "  <tbody>\n",
              "    <tr>\n",
              "      <th>0</th>\n",
              "      <td>One of the other reviewers has mentioned that ...</td>\n",
              "      <td>positive</td>\n",
              "    </tr>\n",
              "    <tr>\n",
              "      <th>1</th>\n",
              "      <td>A wonderful little production. &lt;br /&gt;&lt;br /&gt;The...</td>\n",
              "      <td>positive</td>\n",
              "    </tr>\n",
              "    <tr>\n",
              "      <th>2</th>\n",
              "      <td>I thought this was a wonderful way to spend ti...</td>\n",
              "      <td>positive</td>\n",
              "    </tr>\n",
              "    <tr>\n",
              "      <th>3</th>\n",
              "      <td>Basically there's a family where a little boy ...</td>\n",
              "      <td>negative</td>\n",
              "    </tr>\n",
              "    <tr>\n",
              "      <th>4</th>\n",
              "      <td>Petter Mattei's \"Love in the Time of Money\" is...</td>\n",
              "      <td>positive</td>\n",
              "    </tr>\n",
              "  </tbody>\n",
              "</table>\n",
              "</div>\n",
              "    <div class=\"colab-df-buttons\">\n",
              "\n",
              "  <div class=\"colab-df-container\">\n",
              "    <button class=\"colab-df-convert\" onclick=\"convertToInteractive('df-edce05a3-a97f-4772-b312-d1d2e22706ca')\"\n",
              "            title=\"Convert this dataframe to an interactive table.\"\n",
              "            style=\"display:none;\">\n",
              "\n",
              "  <svg xmlns=\"http://www.w3.org/2000/svg\" height=\"24px\" viewBox=\"0 -960 960 960\">\n",
              "    <path d=\"M120-120v-720h720v720H120Zm60-500h600v-160H180v160Zm220 220h160v-160H400v160Zm0 220h160v-160H400v160ZM180-400h160v-160H180v160Zm440 0h160v-160H620v160ZM180-180h160v-160H180v160Zm440 0h160v-160H620v160Z\"/>\n",
              "  </svg>\n",
              "    </button>\n",
              "\n",
              "  <style>\n",
              "    .colab-df-container {\n",
              "      display:flex;\n",
              "      gap: 12px;\n",
              "    }\n",
              "\n",
              "    .colab-df-convert {\n",
              "      background-color: #E8F0FE;\n",
              "      border: none;\n",
              "      border-radius: 50%;\n",
              "      cursor: pointer;\n",
              "      display: none;\n",
              "      fill: #1967D2;\n",
              "      height: 32px;\n",
              "      padding: 0 0 0 0;\n",
              "      width: 32px;\n",
              "    }\n",
              "\n",
              "    .colab-df-convert:hover {\n",
              "      background-color: #E2EBFA;\n",
              "      box-shadow: 0px 1px 2px rgba(60, 64, 67, 0.3), 0px 1px 3px 1px rgba(60, 64, 67, 0.15);\n",
              "      fill: #174EA6;\n",
              "    }\n",
              "\n",
              "    .colab-df-buttons div {\n",
              "      margin-bottom: 4px;\n",
              "    }\n",
              "\n",
              "    [theme=dark] .colab-df-convert {\n",
              "      background-color: #3B4455;\n",
              "      fill: #D2E3FC;\n",
              "    }\n",
              "\n",
              "    [theme=dark] .colab-df-convert:hover {\n",
              "      background-color: #434B5C;\n",
              "      box-shadow: 0px 1px 3px 1px rgba(0, 0, 0, 0.15);\n",
              "      filter: drop-shadow(0px 1px 2px rgba(0, 0, 0, 0.3));\n",
              "      fill: #FFFFFF;\n",
              "    }\n",
              "  </style>\n",
              "\n",
              "    <script>\n",
              "      const buttonEl =\n",
              "        document.querySelector('#df-edce05a3-a97f-4772-b312-d1d2e22706ca button.colab-df-convert');\n",
              "      buttonEl.style.display =\n",
              "        google.colab.kernel.accessAllowed ? 'block' : 'none';\n",
              "\n",
              "      async function convertToInteractive(key) {\n",
              "        const element = document.querySelector('#df-edce05a3-a97f-4772-b312-d1d2e22706ca');\n",
              "        const dataTable =\n",
              "          await google.colab.kernel.invokeFunction('convertToInteractive',\n",
              "                                                    [key], {});\n",
              "        if (!dataTable) return;\n",
              "\n",
              "        const docLinkHtml = 'Like what you see? Visit the ' +\n",
              "          '<a target=\"_blank\" href=https://colab.research.google.com/notebooks/data_table.ipynb>data table notebook</a>'\n",
              "          + ' to learn more about interactive tables.';\n",
              "        element.innerHTML = '';\n",
              "        dataTable['output_type'] = 'display_data';\n",
              "        await google.colab.output.renderOutput(dataTable, element);\n",
              "        const docLink = document.createElement('div');\n",
              "        docLink.innerHTML = docLinkHtml;\n",
              "        element.appendChild(docLink);\n",
              "      }\n",
              "    </script>\n",
              "  </div>\n",
              "\n",
              "\n",
              "<div id=\"df-c107a517-e473-4e88-9d73-41265ed46616\">\n",
              "  <button class=\"colab-df-quickchart\" onclick=\"quickchart('df-c107a517-e473-4e88-9d73-41265ed46616')\"\n",
              "            title=\"Suggest charts.\"\n",
              "            style=\"display:none;\">\n",
              "\n",
              "<svg xmlns=\"http://www.w3.org/2000/svg\" height=\"24px\"viewBox=\"0 0 24 24\"\n",
              "     width=\"24px\">\n",
              "    <g>\n",
              "        <path d=\"M19 3H5c-1.1 0-2 .9-2 2v14c0 1.1.9 2 2 2h14c1.1 0 2-.9 2-2V5c0-1.1-.9-2-2-2zM9 17H7v-7h2v7zm4 0h-2V7h2v10zm4 0h-2v-4h2v4z\"/>\n",
              "    </g>\n",
              "</svg>\n",
              "  </button>\n",
              "\n",
              "<style>\n",
              "  .colab-df-quickchart {\n",
              "      --bg-color: #E8F0FE;\n",
              "      --fill-color: #1967D2;\n",
              "      --hover-bg-color: #E2EBFA;\n",
              "      --hover-fill-color: #174EA6;\n",
              "      --disabled-fill-color: #AAA;\n",
              "      --disabled-bg-color: #DDD;\n",
              "  }\n",
              "\n",
              "  [theme=dark] .colab-df-quickchart {\n",
              "      --bg-color: #3B4455;\n",
              "      --fill-color: #D2E3FC;\n",
              "      --hover-bg-color: #434B5C;\n",
              "      --hover-fill-color: #FFFFFF;\n",
              "      --disabled-bg-color: #3B4455;\n",
              "      --disabled-fill-color: #666;\n",
              "  }\n",
              "\n",
              "  .colab-df-quickchart {\n",
              "    background-color: var(--bg-color);\n",
              "    border: none;\n",
              "    border-radius: 50%;\n",
              "    cursor: pointer;\n",
              "    display: none;\n",
              "    fill: var(--fill-color);\n",
              "    height: 32px;\n",
              "    padding: 0;\n",
              "    width: 32px;\n",
              "  }\n",
              "\n",
              "  .colab-df-quickchart:hover {\n",
              "    background-color: var(--hover-bg-color);\n",
              "    box-shadow: 0 1px 2px rgba(60, 64, 67, 0.3), 0 1px 3px 1px rgba(60, 64, 67, 0.15);\n",
              "    fill: var(--button-hover-fill-color);\n",
              "  }\n",
              "\n",
              "  .colab-df-quickchart-complete:disabled,\n",
              "  .colab-df-quickchart-complete:disabled:hover {\n",
              "    background-color: var(--disabled-bg-color);\n",
              "    fill: var(--disabled-fill-color);\n",
              "    box-shadow: none;\n",
              "  }\n",
              "\n",
              "  .colab-df-spinner {\n",
              "    border: 2px solid var(--fill-color);\n",
              "    border-color: transparent;\n",
              "    border-bottom-color: var(--fill-color);\n",
              "    animation:\n",
              "      spin 1s steps(1) infinite;\n",
              "  }\n",
              "\n",
              "  @keyframes spin {\n",
              "    0% {\n",
              "      border-color: transparent;\n",
              "      border-bottom-color: var(--fill-color);\n",
              "      border-left-color: var(--fill-color);\n",
              "    }\n",
              "    20% {\n",
              "      border-color: transparent;\n",
              "      border-left-color: var(--fill-color);\n",
              "      border-top-color: var(--fill-color);\n",
              "    }\n",
              "    30% {\n",
              "      border-color: transparent;\n",
              "      border-left-color: var(--fill-color);\n",
              "      border-top-color: var(--fill-color);\n",
              "      border-right-color: var(--fill-color);\n",
              "    }\n",
              "    40% {\n",
              "      border-color: transparent;\n",
              "      border-right-color: var(--fill-color);\n",
              "      border-top-color: var(--fill-color);\n",
              "    }\n",
              "    60% {\n",
              "      border-color: transparent;\n",
              "      border-right-color: var(--fill-color);\n",
              "    }\n",
              "    80% {\n",
              "      border-color: transparent;\n",
              "      border-right-color: var(--fill-color);\n",
              "      border-bottom-color: var(--fill-color);\n",
              "    }\n",
              "    90% {\n",
              "      border-color: transparent;\n",
              "      border-bottom-color: var(--fill-color);\n",
              "    }\n",
              "  }\n",
              "</style>\n",
              "\n",
              "  <script>\n",
              "    async function quickchart(key) {\n",
              "      const quickchartButtonEl =\n",
              "        document.querySelector('#' + key + ' button');\n",
              "      quickchartButtonEl.disabled = true;  // To prevent multiple clicks.\n",
              "      quickchartButtonEl.classList.add('colab-df-spinner');\n",
              "      try {\n",
              "        const charts = await google.colab.kernel.invokeFunction(\n",
              "            'suggestCharts', [key], {});\n",
              "      } catch (error) {\n",
              "        console.error('Error during call to suggestCharts:', error);\n",
              "      }\n",
              "      quickchartButtonEl.classList.remove('colab-df-spinner');\n",
              "      quickchartButtonEl.classList.add('colab-df-quickchart-complete');\n",
              "    }\n",
              "    (() => {\n",
              "      let quickchartButtonEl =\n",
              "        document.querySelector('#df-c107a517-e473-4e88-9d73-41265ed46616 button');\n",
              "      quickchartButtonEl.style.display =\n",
              "        google.colab.kernel.accessAllowed ? 'block' : 'none';\n",
              "    })();\n",
              "  </script>\n",
              "</div>\n",
              "    </div>\n",
              "  </div>\n"
            ]
          },
          "metadata": {},
          "execution_count": 52
        }
      ],
      "source": [
        "file.head()"
      ]
    },
    {
      "cell_type": "code",
      "execution_count": 53,
      "id": "86536fb3",
      "metadata": {
        "id": "86536fb3"
      },
      "outputs": [],
      "source": [
        "pos=file[file['sentiment']=='positive']\n",
        "neg=file[file['sentiment']=='negative']\n"
      ]
    },
    {
      "cell_type": "raw",
      "id": "8f1f4571",
      "metadata": {
        "id": "8f1f4571"
      },
      "source": [
        "Dataframe is divided into two separate dataframe i.e. positive and negative sentiment dataframe"
      ]
    },
    {
      "cell_type": "code",
      "execution_count": 54,
      "id": "34b776f7",
      "metadata": {
        "colab": {
          "base_uri": "https://localhost:8080/"
        },
        "id": "34b776f7",
        "outputId": "38261ce7-bb68-466c-81d2-beee60c57acc"
      },
      "outputs": [
        {
          "output_type": "stream",
          "name": "stdout",
          "text": [
            "                                                  review sentiment\n",
            "0      One of the other reviewers has mentioned that ...  positive\n",
            "1      A wonderful little production. <br /><br />The...  positive\n",
            "2      I thought this was a wonderful way to spend ti...  positive\n",
            "4      Petter Mattei's \"Love in the Time of Money\" is...  positive\n",
            "5      Probably my all-time favorite movie, a story o...  positive\n",
            "...                                                  ...       ...\n",
            "49983  I loved it, having been a fan of the original ...  positive\n",
            "49985  Imaginary Heroes is clearly the best film of t...  positive\n",
            "49989  I got this one a few weeks ago and love it! It...  positive\n",
            "49992  John Garfield plays a Marine who is blinded by...  positive\n",
            "49995  I thought this movie did a down right good job...  positive\n",
            "\n",
            "[25000 rows x 2 columns]\n"
          ]
        }
      ],
      "source": [
        "print(pos)"
      ]
    },
    {
      "cell_type": "code",
      "execution_count": 55,
      "id": "292369d6",
      "metadata": {
        "colab": {
          "base_uri": "https://localhost:8080/"
        },
        "id": "292369d6",
        "outputId": "f4d2724b-3255-4eab-f91f-b69698508f68"
      },
      "outputs": [
        {
          "output_type": "stream",
          "name": "stdout",
          "text": [
            "                                                  review sentiment\n",
            "3      Basically there's a family where a little boy ...  negative\n",
            "7      This show was an amazing, fresh & innovative i...  negative\n",
            "8      Encouraged by the positive comments about this...  negative\n",
            "10     Phil the Alien is one of those quirky films wh...  negative\n",
            "11     I saw this movie when I was about 12 when it c...  negative\n",
            "...                                                  ...       ...\n",
            "49994  This is your typical junk comedy.<br /><br />T...  negative\n",
            "49996  Bad plot, bad dialogue, bad acting, idiotic di...  negative\n",
            "49997  I am a Catholic taught in parochial elementary...  negative\n",
            "49998  I'm going to have to disagree with the previou...  negative\n",
            "49999  No one expects the Star Trek movies to be high...  negative\n",
            "\n",
            "[25000 rows x 2 columns]\n"
          ]
        }
      ],
      "source": [
        "print(neg)"
      ]
    },
    {
      "cell_type": "raw",
      "id": "57eba9f5",
      "metadata": {
        "id": "57eba9f5"
      },
      "source": [
        "convert into lowercase"
      ]
    },
    {
      "cell_type": "code",
      "execution_count": 56,
      "id": "a1a36942",
      "metadata": {
        "colab": {
          "base_uri": "https://localhost:8080/"
        },
        "id": "a1a36942",
        "outputId": "661612a8-c35c-475b-b21a-e752f2009bae"
      },
      "outputs": [
        {
          "output_type": "stream",
          "name": "stderr",
          "text": [
            "<ipython-input-56-46afdaa3f2b0>:2: SettingWithCopyWarning: \n",
            "A value is trying to be set on a copy of a slice from a DataFrame.\n",
            "Try using .loc[row_indexer,col_indexer] = value instead\n",
            "\n",
            "See the caveats in the documentation: https://pandas.pydata.org/pandas-docs/stable/user_guide/indexing.html#returning-a-view-versus-a-copy\n",
            "  pos['review']=pos['review'].str.lower()\n",
            "<ipython-input-56-46afdaa3f2b0>:3: SettingWithCopyWarning: \n",
            "A value is trying to be set on a copy of a slice from a DataFrame.\n",
            "Try using .loc[row_indexer,col_indexer] = value instead\n",
            "\n",
            "See the caveats in the documentation: https://pandas.pydata.org/pandas-docs/stable/user_guide/indexing.html#returning-a-view-versus-a-copy\n",
            "  neg['review']=neg['review'].str.lower()\n"
          ]
        }
      ],
      "source": [
        "file['review']=file['review'].str.lower()\n",
        "pos['review']=pos['review'].str.lower()\n",
        "neg['review']=neg['review'].str.lower()"
      ]
    },
    {
      "cell_type": "code",
      "execution_count": 57,
      "id": "2cef7bef",
      "metadata": {
        "colab": {
          "base_uri": "https://localhost:8080/"
        },
        "id": "2cef7bef",
        "outputId": "c75eeb66-f5fe-44d4-c1c1-e6d620372a3c"
      },
      "outputs": [
        {
          "output_type": "stream",
          "name": "stdout",
          "text": [
            "                                                  review sentiment\n",
            "0      one of the other reviewers has mentioned that ...  positive\n",
            "1      a wonderful little production. <br /><br />the...  positive\n",
            "2      i thought this was a wonderful way to spend ti...  positive\n",
            "4      petter mattei's \"love in the time of money\" is...  positive\n",
            "5      probably my all-time favorite movie, a story o...  positive\n",
            "...                                                  ...       ...\n",
            "49983  i loved it, having been a fan of the original ...  positive\n",
            "49985  imaginary heroes is clearly the best film of t...  positive\n",
            "49989  i got this one a few weeks ago and love it! it...  positive\n",
            "49992  john garfield plays a marine who is blinded by...  positive\n",
            "49995  i thought this movie did a down right good job...  positive\n",
            "\n",
            "[25000 rows x 2 columns]\n"
          ]
        }
      ],
      "source": [
        "print(pos)"
      ]
    },
    {
      "cell_type": "code",
      "execution_count": 58,
      "id": "7e7092bd",
      "metadata": {
        "colab": {
          "base_uri": "https://localhost:8080/"
        },
        "id": "7e7092bd",
        "outputId": "b668f2ef-d865-4cb8-acc1-c54cd7c35be7"
      },
      "outputs": [
        {
          "output_type": "stream",
          "name": "stdout",
          "text": [
            "                                                  review sentiment\n",
            "3      basically there's a family where a little boy ...  negative\n",
            "7      this show was an amazing, fresh & innovative i...  negative\n",
            "8      encouraged by the positive comments about this...  negative\n",
            "10     phil the alien is one of those quirky films wh...  negative\n",
            "11     i saw this movie when i was about 12 when it c...  negative\n",
            "...                                                  ...       ...\n",
            "49994  this is your typical junk comedy.<br /><br />t...  negative\n",
            "49996  bad plot, bad dialogue, bad acting, idiotic di...  negative\n",
            "49997  i am a catholic taught in parochial elementary...  negative\n",
            "49998  i'm going to have to disagree with the previou...  negative\n",
            "49999  no one expects the star trek movies to be high...  negative\n",
            "\n",
            "[25000 rows x 2 columns]\n"
          ]
        }
      ],
      "source": [
        "print(neg)"
      ]
    },
    {
      "cell_type": "raw",
      "id": "07a8ddcc",
      "metadata": {
        "id": "07a8ddcc"
      },
      "source": [
        "Remove all the punctuation marks in the review column"
      ]
    },
    {
      "cell_type": "code",
      "execution_count": 59,
      "id": "cd5687cb",
      "metadata": {
        "colab": {
          "base_uri": "https://localhost:8080/"
        },
        "id": "cd5687cb",
        "outputId": "0e8d08c8-d517-420e-f9a5-9d806bcc2be4"
      },
      "outputs": [
        {
          "output_type": "stream",
          "name": "stderr",
          "text": [
            "<ipython-input-59-3b3c12a96a09>:3: SettingWithCopyWarning: \n",
            "A value is trying to be set on a copy of a slice from a DataFrame.\n",
            "Try using .loc[row_indexer,col_indexer] = value instead\n",
            "\n",
            "See the caveats in the documentation: https://pandas.pydata.org/pandas-docs/stable/user_guide/indexing.html#returning-a-view-versus-a-copy\n",
            "  pos['review']=pos['review'].apply(removingpunctuation)\n",
            "<ipython-input-59-3b3c12a96a09>:4: SettingWithCopyWarning: \n",
            "A value is trying to be set on a copy of a slice from a DataFrame.\n",
            "Try using .loc[row_indexer,col_indexer] = value instead\n",
            "\n",
            "See the caveats in the documentation: https://pandas.pydata.org/pandas-docs/stable/user_guide/indexing.html#returning-a-view-versus-a-copy\n",
            "  neg['review']=neg['review'].apply(removingpunctuation)\n"
          ]
        }
      ],
      "source": [
        "def removingpunctuation(review):\n",
        "    return re.sub(r'[^\\w\\s]','',review)\n",
        "pos['review']=pos['review'].apply(removingpunctuation)\n",
        "neg['review']=neg['review'].apply(removingpunctuation)"
      ]
    },
    {
      "cell_type": "code",
      "execution_count": 60,
      "id": "40003a6d",
      "metadata": {
        "colab": {
          "base_uri": "https://localhost:8080/"
        },
        "id": "40003a6d",
        "outputId": "650bd682-a8c8-4061-b311-938e25903226"
      },
      "outputs": [
        {
          "output_type": "stream",
          "name": "stdout",
          "text": [
            "                                                  review sentiment\n",
            "0      one of the other reviewers has mentioned that ...  positive\n",
            "1      a wonderful little production br br the filmin...  positive\n",
            "2      i thought this was a wonderful way to spend ti...  positive\n",
            "4      petter matteis love in the time of money is a ...  positive\n",
            "5      probably my alltime favorite movie a story of ...  positive\n",
            "...                                                  ...       ...\n",
            "49983  i loved it having been a fan of the original s...  positive\n",
            "49985  imaginary heroes is clearly the best film of t...  positive\n",
            "49989  i got this one a few weeks ago and love it its...  positive\n",
            "49992  john garfield plays a marine who is blinded by...  positive\n",
            "49995  i thought this movie did a down right good job...  positive\n",
            "\n",
            "[25000 rows x 2 columns]\n"
          ]
        }
      ],
      "source": [
        "print(pos)"
      ]
    },
    {
      "cell_type": "code",
      "execution_count": 61,
      "id": "d670dd72",
      "metadata": {
        "colab": {
          "base_uri": "https://localhost:8080/"
        },
        "id": "d670dd72",
        "outputId": "03b5fa6b-4f01-4178-d7d5-e3f4ff5e077b"
      },
      "outputs": [
        {
          "output_type": "stream",
          "name": "stdout",
          "text": [
            "                                                  review sentiment\n",
            "3      basically theres a family where a little boy j...  negative\n",
            "7      this show was an amazing fresh  innovative ide...  negative\n",
            "8      encouraged by the positive comments about this...  negative\n",
            "10     phil the alien is one of those quirky films wh...  negative\n",
            "11     i saw this movie when i was about 12 when it c...  negative\n",
            "...                                                  ...       ...\n",
            "49994  this is your typical junk comedybr br there ar...  negative\n",
            "49996  bad plot bad dialogue bad acting idiotic direc...  negative\n",
            "49997  i am a catholic taught in parochial elementary...  negative\n",
            "49998  im going to have to disagree with the previous...  negative\n",
            "49999  no one expects the star trek movies to be high...  negative\n",
            "\n",
            "[25000 rows x 2 columns]\n"
          ]
        }
      ],
      "source": [
        "print(neg)"
      ]
    },
    {
      "cell_type": "code",
      "execution_count": 62,
      "id": "c7bce2b1",
      "metadata": {
        "colab": {
          "base_uri": "https://localhost:8080/"
        },
        "id": "c7bce2b1",
        "outputId": "c552d41f-a791-492d-abec-e4f00ecd7268"
      },
      "outputs": [
        {
          "output_type": "stream",
          "name": "stderr",
          "text": [
            "<ipython-input-62-f8051dd51194>:2: SettingWithCopyWarning: \n",
            "A value is trying to be set on a copy of a slice from a DataFrame.\n",
            "Try using .loc[row_indexer,col_indexer] = value instead\n",
            "\n",
            "See the caveats in the documentation: https://pandas.pydata.org/pandas-docs/stable/user_guide/indexing.html#returning-a-view-versus-a-copy\n",
            "  pos['review']=pos['review'].astype(str).str.replace('disappointed','happy')\n",
            "<ipython-input-62-f8051dd51194>:3: SettingWithCopyWarning: \n",
            "A value is trying to be set on a copy of a slice from a DataFrame.\n",
            "Try using .loc[row_indexer,col_indexer] = value instead\n",
            "\n",
            "See the caveats in the documentation: https://pandas.pydata.org/pandas-docs/stable/user_guide/indexing.html#returning-a-view-versus-a-copy\n",
            "  neg['review']=neg['review'].astype(str).str.replace('disappointed','happy')\n"
          ]
        }
      ],
      "source": [
        "file['review']=file['review'].astype(str).str.replace('disappointed','happy')\n",
        "pos['review']=pos['review'].astype(str).str.replace('disappointed','happy')\n",
        "neg['review']=neg['review'].astype(str).str.replace('disappointed','happy')"
      ]
    },
    {
      "cell_type": "code",
      "execution_count": 63,
      "id": "ca43299b",
      "metadata": {
        "colab": {
          "base_uri": "https://localhost:8080/"
        },
        "id": "ca43299b",
        "outputId": "6e3bbc8e-28e1-4511-c922-c0c612d723db"
      },
      "outputs": [
        {
          "output_type": "stream",
          "name": "stderr",
          "text": [
            "<ipython-input-63-f9586d1a6522>:3: SettingWithCopyWarning: \n",
            "A value is trying to be set on a copy of a slice from a DataFrame.\n",
            "Try using .loc[row_indexer,col_indexer] = value instead\n",
            "\n",
            "See the caveats in the documentation: https://pandas.pydata.org/pandas-docs/stable/user_guide/indexing.html#returning-a-view-versus-a-copy\n",
            "  pos['review']=pos['review'].apply(remove_digits)\n",
            "<ipython-input-63-f9586d1a6522>:4: SettingWithCopyWarning: \n",
            "A value is trying to be set on a copy of a slice from a DataFrame.\n",
            "Try using .loc[row_indexer,col_indexer] = value instead\n",
            "\n",
            "See the caveats in the documentation: https://pandas.pydata.org/pandas-docs/stable/user_guide/indexing.html#returning-a-view-versus-a-copy\n",
            "  neg['review']=neg['review'].apply(remove_digits)\n"
          ]
        }
      ],
      "source": [
        "def remove_digits(review):\n",
        "    return re.sub(r'\\d+','',review)\n",
        "pos['review']=pos['review'].apply(remove_digits)\n",
        "neg['review']=neg['review'].apply(remove_digits)"
      ]
    },
    {
      "cell_type": "code",
      "execution_count": 64,
      "id": "20a0cc9a",
      "metadata": {
        "colab": {
          "base_uri": "https://localhost:8080/"
        },
        "id": "20a0cc9a",
        "outputId": "73e465a7-f1e0-4f18-e72a-1d7a562ac2e5"
      },
      "outputs": [
        {
          "output_type": "stream",
          "name": "stdout",
          "text": [
            "                                                  review sentiment\n",
            "3      basically theres a family where a little boy j...  negative\n",
            "7      this show was an amazing fresh  innovative ide...  negative\n",
            "8      encouraged by the positive comments about this...  negative\n",
            "10     phil the alien is one of those quirky films wh...  negative\n",
            "11     i saw this movie when i was about  when it cam...  negative\n",
            "...                                                  ...       ...\n",
            "49994  this is your typical junk comedybr br there ar...  negative\n",
            "49996  bad plot bad dialogue bad acting idiotic direc...  negative\n",
            "49997  i am a catholic taught in parochial elementary...  negative\n",
            "49998  im going to have to disagree with the previous...  negative\n",
            "49999  no one expects the star trek movies to be high...  negative\n",
            "\n",
            "[25000 rows x 2 columns]\n"
          ]
        }
      ],
      "source": [
        "print(neg)"
      ]
    },
    {
      "cell_type": "code",
      "execution_count": 65,
      "id": "4ff69a5d",
      "metadata": {
        "id": "4ff69a5d"
      },
      "outputs": [],
      "source": [
        "pos.to_csv('new.csv',index=False,sep=',')"
      ]
    },
    {
      "cell_type": "code",
      "execution_count": 66,
      "id": "d1a4a72e",
      "metadata": {
        "colab": {
          "base_uri": "https://localhost:8080/"
        },
        "id": "d1a4a72e",
        "outputId": "e96b01f9-9335-42de-f461-97c59ccf46ee"
      },
      "outputs": [
        {
          "output_type": "stream",
          "name": "stderr",
          "text": [
            "<ipython-input-66-d922a011c5e1>:4: SettingWithCopyWarning: \n",
            "A value is trying to be set on a copy of a slice from a DataFrame.\n",
            "Try using .loc[row_indexer,col_indexer] = value instead\n",
            "\n",
            "See the caveats in the documentation: https://pandas.pydata.org/pandas-docs/stable/user_guide/indexing.html#returning-a-view-versus-a-copy\n",
            "  pos['word_count'] = pos['review'].apply(count_words)\n",
            "<ipython-input-66-d922a011c5e1>:5: SettingWithCopyWarning: \n",
            "A value is trying to be set on a copy of a slice from a DataFrame.\n",
            "Try using .loc[row_indexer,col_indexer] = value instead\n",
            "\n",
            "See the caveats in the documentation: https://pandas.pydata.org/pandas-docs/stable/user_guide/indexing.html#returning-a-view-versus-a-copy\n",
            "  neg['word_count'] = neg['review'].apply(count_words)\n"
          ]
        }
      ],
      "source": [
        "def count_words(review):\n",
        "    words=review.split()\n",
        "    return len(words)\n",
        "pos['word_count'] = pos['review'].apply(count_words)\n",
        "neg['word_count'] = neg['review'].apply(count_words)"
      ]
    },
    {
      "cell_type": "code",
      "execution_count": 67,
      "id": "b55452a6",
      "metadata": {
        "colab": {
          "base_uri": "https://localhost:8080/"
        },
        "id": "b55452a6",
        "outputId": "5f386fd8-8dce-4672-f84b-9555807cdd47"
      },
      "outputs": [
        {
          "output_type": "stream",
          "name": "stdout",
          "text": [
            "                                                  review sentiment  word_count\n",
            "0      one of the other reviewers has mentioned that ...  positive         306\n",
            "1      a wonderful little production br br the filmin...  positive         162\n",
            "2      i thought this was a wonderful way to spend ti...  positive         165\n",
            "4      petter matteis love in the time of money is a ...  positive         230\n",
            "5      probably my alltime favorite movie a story of ...  positive         117\n",
            "...                                                  ...       ...         ...\n",
            "49983  i loved it having been a fan of the original s...  positive         129\n",
            "49985  imaginary heroes is clearly the best film of t...  positive         216\n",
            "49989  i got this one a few weeks ago and love it its...  positive         170\n",
            "49992  john garfield plays a marine who is blinded by...  positive         170\n",
            "49995  i thought this movie did a down right good job...  positive         192\n",
            "\n",
            "[25000 rows x 3 columns]\n"
          ]
        }
      ],
      "source": [
        "print(pos)"
      ]
    },
    {
      "cell_type": "code",
      "execution_count": 68,
      "id": "6927bec5",
      "metadata": {
        "colab": {
          "base_uri": "https://localhost:8080/"
        },
        "id": "6927bec5",
        "outputId": "f44b2887-8ce6-4937-d476-2c78f992d1a3"
      },
      "outputs": [
        {
          "output_type": "stream",
          "name": "stdout",
          "text": [
            "                                                  review sentiment  word_count\n",
            "3      basically theres a family where a little boy j...  negative         133\n",
            "7      this show was an amazing fresh  innovative ide...  negative         168\n",
            "8      encouraged by the positive comments about this...  negative         125\n",
            "10     phil the alien is one of those quirky films wh...  negative          96\n",
            "11     i saw this movie when i was about  when it cam...  negative         178\n",
            "...                                                  ...       ...         ...\n",
            "49994  this is your typical junk comedybr br there ar...  negative         133\n",
            "49996  bad plot bad dialogue bad acting idiotic direc...  negative         112\n",
            "49997  i am a catholic taught in parochial elementary...  negative         229\n",
            "49998  im going to have to disagree with the previous...  negative         211\n",
            "49999  no one expects the star trek movies to be high...  negative         126\n",
            "\n",
            "[25000 rows x 3 columns]\n"
          ]
        }
      ],
      "source": [
        "print(neg)"
      ]
    },
    {
      "cell_type": "code",
      "execution_count": 69,
      "id": "53b43ca6",
      "metadata": {
        "colab": {
          "base_uri": "https://localhost:8080/"
        },
        "id": "53b43ca6",
        "outputId": "a4323938-6ec8-407e-9cea-1d61cb1a94c9"
      },
      "outputs": [
        {
          "output_type": "stream",
          "name": "stderr",
          "text": [
            "[nltk_data] Downloading package stopwords to /root/nltk_data...\n",
            "[nltk_data]   Package stopwords is already up-to-date!\n"
          ]
        },
        {
          "output_type": "execute_result",
          "data": {
            "text/plain": [
              "True"
            ]
          },
          "metadata": {},
          "execution_count": 69
        }
      ],
      "source": [
        "import nltk\n",
        "nltk.download('stopwords')"
      ]
    },
    {
      "cell_type": "code",
      "execution_count": 70,
      "id": "1a929fa8",
      "metadata": {
        "colab": {
          "base_uri": "https://localhost:8080/"
        },
        "id": "1a929fa8",
        "outputId": "4d84b903-e19d-44c1-cd81-a312677901c7"
      },
      "outputs": [
        {
          "output_type": "stream",
          "name": "stderr",
          "text": [
            "<ipython-input-70-8dbb6772768b>:6: SettingWithCopyWarning: \n",
            "A value is trying to be set on a copy of a slice from a DataFrame.\n",
            "Try using .loc[row_indexer,col_indexer] = value instead\n",
            "\n",
            "See the caveats in the documentation: https://pandas.pydata.org/pandas-docs/stable/user_guide/indexing.html#returning-a-view-versus-a-copy\n",
            "  pos['word_frequencies'] = pos['review'].apply(wordfreq)\n"
          ]
        },
        {
          "output_type": "stream",
          "name": "stdout",
          "text": [
            "Word Frequencies in 'pos' DataFrame:\n",
            "0        {'one': 1, 'of': 7, 'the': 16, 'other': 2, 're...\n",
            "1        {'a': 4, 'wonderful': 1, 'little': 2, 'product...\n",
            "2        {'i': 3, 'thought': 2, 'this': 5, 'was': 4, 'a...\n",
            "4        {'petter': 1, 'matteis': 2, 'love': 1, 'in': 6...\n",
            "5        {'probably': 1, 'my': 3, 'alltime': 1, 'favori...\n",
            "                               ...                        \n",
            "49983    {'i': 7, 'loved': 1, 'it': 3, 'having': 1, 'be...\n",
            "49985    {'imaginary': 1, 'heroes': 1, 'is': 3, 'clearl...\n",
            "49989    {'i': 1, 'got': 1, 'this': 5, 'one': 1, 'a': 3...\n",
            "49992    {'john': 1, 'garfield': 2, 'plays': 1, 'a': 11...\n",
            "49995    {'i': 5, 'thought': 1, 'this': 5, 'movie': 4, ...\n",
            "Name: word_frequencies, Length: 25000, dtype: object\n",
            "Word Frequencies in 'neg' DataFrame:\n",
            "3        {'basically': 1, 'theres': 2, 'a': 10, 'family...\n",
            "7        {'this': 4, 'show': 6, 'was': 2, 'an': 1, 'ama...\n",
            "8        {'encouraged': 1, 'by': 1, 'the': 7, 'positive...\n",
            "10       {'phil': 1, 'the': 5, 'alien': 1, 'is': 3, 'on...\n",
            "11       {'i': 9, 'saw': 2, 'this': 1, 'movie': 1, 'whe...\n",
            "                               ...                        \n",
            "49994    {'this': 6, 'is': 7, 'your': 1, 'typical': 1, ...\n",
            "49996    {'bad': 4, 'plot': 1, 'dialogue': 1, 'acting':...\n",
            "49997    {'i': 5, 'am': 2, 'a': 7, 'catholic': 3, 'taug...\n",
            "49998    {'im': 1, 'going': 1, 'to': 6, 'have': 1, 'dis...\n",
            "49999    {'no': 1, 'one': 1, 'expects': 1, 'the': 12, '...\n",
            "Name: word_frequencies, Length: 25000, dtype: object\n"
          ]
        },
        {
          "output_type": "stream",
          "name": "stderr",
          "text": [
            "<ipython-input-70-8dbb6772768b>:7: SettingWithCopyWarning: \n",
            "A value is trying to be set on a copy of a slice from a DataFrame.\n",
            "Try using .loc[row_indexer,col_indexer] = value instead\n",
            "\n",
            "See the caveats in the documentation: https://pandas.pydata.org/pandas-docs/stable/user_guide/indexing.html#returning-a-view-versus-a-copy\n",
            "  neg['word_frequencies'] = neg['review'].apply(wordfreq)\n"
          ]
        }
      ],
      "source": [
        "from collections import Counter\n",
        "import re\n",
        "def wordfreq(review):\n",
        "    words = review.split()\n",
        "    return Counter(words)\n",
        "pos['word_frequencies'] = pos['review'].apply(wordfreq)\n",
        "neg['word_frequencies'] = neg['review'].apply(wordfreq)\n",
        "print(\"Word Frequencies in 'pos' DataFrame:\")\n",
        "print(pos['word_frequencies'])\n",
        "print(\"Word Frequencies in 'neg' DataFrame:\")\n",
        "print(neg['word_frequencies'])\n"
      ]
    },
    {
      "cell_type": "code",
      "execution_count": 71,
      "id": "e7155f15",
      "metadata": {
        "colab": {
          "base_uri": "https://localhost:8080/"
        },
        "id": "e7155f15",
        "outputId": "b4dff6b6-6f48-4af3-a0e2-0af3a4fbf044"
      },
      "outputs": [
        {
          "output_type": "stream",
          "name": "stdout",
          "text": [
            "                                                  review sentiment  \\\n",
            "0      one of the other reviewers has mentioned that ...  positive   \n",
            "1      a wonderful little production br br the filmin...  positive   \n",
            "2      i thought this was a wonderful way to spend ti...  positive   \n",
            "4      petter matteis love in the time of money is a ...  positive   \n",
            "5      probably my alltime favorite movie a story of ...  positive   \n",
            "...                                                  ...       ...   \n",
            "49983  i loved it having been a fan of the original s...  positive   \n",
            "49985  imaginary heroes is clearly the best film of t...  positive   \n",
            "49989  i got this one a few weeks ago and love it its...  positive   \n",
            "49992  john garfield plays a marine who is blinded by...  positive   \n",
            "49995  i thought this movie did a down right good job...  positive   \n",
            "\n",
            "       word_count                                   word_frequencies  \n",
            "0             306  {'one': 1, 'of': 7, 'the': 16, 'other': 2, 're...  \n",
            "1             162  {'a': 4, 'wonderful': 1, 'little': 2, 'product...  \n",
            "2             165  {'i': 3, 'thought': 2, 'this': 5, 'was': 4, 'a...  \n",
            "4             230  {'petter': 1, 'matteis': 2, 'love': 1, 'in': 6...  \n",
            "5             117  {'probably': 1, 'my': 3, 'alltime': 1, 'favori...  \n",
            "...           ...                                                ...  \n",
            "49983         129  {'i': 7, 'loved': 1, 'it': 3, 'having': 1, 'be...  \n",
            "49985         216  {'imaginary': 1, 'heroes': 1, 'is': 3, 'clearl...  \n",
            "49989         170  {'i': 1, 'got': 1, 'this': 5, 'one': 1, 'a': 3...  \n",
            "49992         170  {'john': 1, 'garfield': 2, 'plays': 1, 'a': 11...  \n",
            "49995         192  {'i': 5, 'thought': 1, 'this': 5, 'movie': 4, ...  \n",
            "\n",
            "[25000 rows x 4 columns]\n"
          ]
        }
      ],
      "source": [
        "print(pos)"
      ]
    },
    {
      "cell_type": "code",
      "source": [
        "print(neg)"
      ],
      "metadata": {
        "colab": {
          "base_uri": "https://localhost:8080/"
        },
        "id": "zQTZbb6DNUD7",
        "outputId": "66b25c93-39f3-4b31-d6c2-3323cd81009e"
      },
      "id": "zQTZbb6DNUD7",
      "execution_count": 72,
      "outputs": [
        {
          "output_type": "stream",
          "name": "stdout",
          "text": [
            "                                                  review sentiment  \\\n",
            "3      basically theres a family where a little boy j...  negative   \n",
            "7      this show was an amazing fresh  innovative ide...  negative   \n",
            "8      encouraged by the positive comments about this...  negative   \n",
            "10     phil the alien is one of those quirky films wh...  negative   \n",
            "11     i saw this movie when i was about  when it cam...  negative   \n",
            "...                                                  ...       ...   \n",
            "49994  this is your typical junk comedybr br there ar...  negative   \n",
            "49996  bad plot bad dialogue bad acting idiotic direc...  negative   \n",
            "49997  i am a catholic taught in parochial elementary...  negative   \n",
            "49998  im going to have to disagree with the previous...  negative   \n",
            "49999  no one expects the star trek movies to be high...  negative   \n",
            "\n",
            "       word_count                                   word_frequencies  \n",
            "3             133  {'basically': 1, 'theres': 2, 'a': 10, 'family...  \n",
            "7             168  {'this': 4, 'show': 6, 'was': 2, 'an': 1, 'ama...  \n",
            "8             125  {'encouraged': 1, 'by': 1, 'the': 7, 'positive...  \n",
            "10             96  {'phil': 1, 'the': 5, 'alien': 1, 'is': 3, 'on...  \n",
            "11            178  {'i': 9, 'saw': 2, 'this': 1, 'movie': 1, 'whe...  \n",
            "...           ...                                                ...  \n",
            "49994         133  {'this': 6, 'is': 7, 'your': 1, 'typical': 1, ...  \n",
            "49996         112  {'bad': 4, 'plot': 1, 'dialogue': 1, 'acting':...  \n",
            "49997         229  {'i': 5, 'am': 2, 'a': 7, 'catholic': 3, 'taug...  \n",
            "49998         211  {'im': 1, 'going': 1, 'to': 6, 'have': 1, 'dis...  \n",
            "49999         126  {'no': 1, 'one': 1, 'expects': 1, 'the': 12, '...  \n",
            "\n",
            "[25000 rows x 4 columns]\n"
          ]
        }
      ]
    },
    {
      "cell_type": "code",
      "execution_count": 73,
      "id": "e79fbf79",
      "metadata": {
        "colab": {
          "base_uri": "https://localhost:8080/"
        },
        "id": "e79fbf79",
        "outputId": "5072756f-5ab8-4171-fa87-73f5e634a046"
      },
      "outputs": [
        {
          "output_type": "stream",
          "name": "stderr",
          "text": [
            "<ipython-input-73-a2993358f260>:7: SettingWithCopyWarning: \n",
            "A value is trying to be set on a copy of a slice from a DataFrame.\n",
            "Try using .loc[row_indexer,col_indexer] = value instead\n",
            "\n",
            "See the caveats in the documentation: https://pandas.pydata.org/pandas-docs/stable/user_guide/indexing.html#returning-a-view-versus-a-copy\n",
            "  pos['review']=pos['review'].apply(removestopwords)\n",
            "<ipython-input-73-a2993358f260>:8: SettingWithCopyWarning: \n",
            "A value is trying to be set on a copy of a slice from a DataFrame.\n",
            "Try using .loc[row_indexer,col_indexer] = value instead\n",
            "\n",
            "See the caveats in the documentation: https://pandas.pydata.org/pandas-docs/stable/user_guide/indexing.html#returning-a-view-versus-a-copy\n",
            "  neg['review']=neg['review'].apply(removestopwords)\n"
          ]
        }
      ],
      "source": [
        "import nltk\n",
        "from nltk.corpus import stopwords\n",
        "def removestopwords(review):\n",
        "    words = review.split()\n",
        "    review = [word for word in words if word.lower() not in stopwords.words('english')]\n",
        "    return ' '.join(review)\n",
        "pos['review']=pos['review'].apply(removestopwords)\n",
        "neg['review']=neg['review'].apply(removestopwords)"
      ]
    },
    {
      "cell_type": "code",
      "source": [
        "print(pos)\n",
        "print(neg)"
      ],
      "metadata": {
        "colab": {
          "base_uri": "https://localhost:8080/"
        },
        "id": "N6b3IvmjLNee",
        "outputId": "1ac14912-ec66-4d76-f026-0f9e2b81abae"
      },
      "id": "N6b3IvmjLNee",
      "execution_count": 74,
      "outputs": [
        {
          "output_type": "stream",
          "name": "stdout",
          "text": [
            "                                                  review sentiment  \\\n",
            "0      one reviewers mentioned watching oz episode yo...  positive   \n",
            "1      wonderful little production br br filming tech...  positive   \n",
            "2      thought wonderful way spend time hot summer we...  positive   \n",
            "4      petter matteis love time money visually stunni...  positive   \n",
            "5      probably alltime favorite movie story selfless...  positive   \n",
            "...                                                  ...       ...   \n",
            "49983  loved fan original series always wondered back...  positive   \n",
            "49985  imaginary heroes clearly best film year comple...  positive   \n",
            "49989  got one weeks ago love modern light filled tru...  positive   \n",
            "49992  john garfield plays marine blinded grenade fig...  positive   \n",
            "49995  thought movie right good job wasnt creative or...  positive   \n",
            "\n",
            "       word_count                                   word_frequencies  \n",
            "0             306  {'one': 1, 'of': 7, 'the': 16, 'other': 2, 're...  \n",
            "1             162  {'a': 4, 'wonderful': 1, 'little': 2, 'product...  \n",
            "2             165  {'i': 3, 'thought': 2, 'this': 5, 'was': 4, 'a...  \n",
            "4             230  {'petter': 1, 'matteis': 2, 'love': 1, 'in': 6...  \n",
            "5             117  {'probably': 1, 'my': 3, 'alltime': 1, 'favori...  \n",
            "...           ...                                                ...  \n",
            "49983         129  {'i': 7, 'loved': 1, 'it': 3, 'having': 1, 'be...  \n",
            "49985         216  {'imaginary': 1, 'heroes': 1, 'is': 3, 'clearl...  \n",
            "49989         170  {'i': 1, 'got': 1, 'this': 5, 'one': 1, 'a': 3...  \n",
            "49992         170  {'john': 1, 'garfield': 2, 'plays': 1, 'a': 11...  \n",
            "49995         192  {'i': 5, 'thought': 1, 'this': 5, 'movie': 4, ...  \n",
            "\n",
            "[25000 rows x 4 columns]\n",
            "                                                  review sentiment  \\\n",
            "3      basically theres family little boy jake thinks...  negative   \n",
            "7      show amazing fresh innovative idea first aired...  negative   \n",
            "8      encouraged positive comments film looking forw...  negative   \n",
            "10     phil alien one quirky films humour based aroun...  negative   \n",
            "11     saw movie came recall scariest scene big bird ...  negative   \n",
            "...                                                  ...       ...   \n",
            "49994  typical junk comedybr br almost laughs genuine...  negative   \n",
            "49996  bad plot bad dialogue bad acting idiotic direc...  negative   \n",
            "49997  catholic taught parochial elementary schools n...  negative   \n",
            "49998  im going disagree previous comment side maltin...  negative   \n",
            "49999  one expects star trek movies high art fans exp...  negative   \n",
            "\n",
            "       word_count                                   word_frequencies  \n",
            "3             133  {'basically': 1, 'theres': 2, 'a': 10, 'family...  \n",
            "7             168  {'this': 4, 'show': 6, 'was': 2, 'an': 1, 'ama...  \n",
            "8             125  {'encouraged': 1, 'by': 1, 'the': 7, 'positive...  \n",
            "10             96  {'phil': 1, 'the': 5, 'alien': 1, 'is': 3, 'on...  \n",
            "11            178  {'i': 9, 'saw': 2, 'this': 1, 'movie': 1, 'whe...  \n",
            "...           ...                                                ...  \n",
            "49994         133  {'this': 6, 'is': 7, 'your': 1, 'typical': 1, ...  \n",
            "49996         112  {'bad': 4, 'plot': 1, 'dialogue': 1, 'acting':...  \n",
            "49997         229  {'i': 5, 'am': 2, 'a': 7, 'catholic': 3, 'taug...  \n",
            "49998         211  {'im': 1, 'going': 1, 'to': 6, 'have': 1, 'dis...  \n",
            "49999         126  {'no': 1, 'one': 1, 'expects': 1, 'the': 12, '...  \n",
            "\n",
            "[25000 rows x 4 columns]\n"
          ]
        }
      ]
    },
    {
      "cell_type": "code",
      "execution_count": 75,
      "id": "0a210db5",
      "metadata": {
        "colab": {
          "base_uri": "https://localhost:8080/"
        },
        "id": "0a210db5",
        "outputId": "5c2f7666-2c83-4071-8f50-fb7660839e1a"
      },
      "outputs": [
        {
          "output_type": "stream",
          "name": "stderr",
          "text": [
            "<ipython-input-75-d742d53fb2d8>:4: SettingWithCopyWarning: \n",
            "A value is trying to be set on a copy of a slice from a DataFrame.\n",
            "Try using .loc[row_indexer,col_indexer] = value instead\n",
            "\n",
            "See the caveats in the documentation: https://pandas.pydata.org/pandas-docs/stable/user_guide/indexing.html#returning-a-view-versus-a-copy\n",
            "  pos['word_count_without_stopwords'] = pos['review'].apply(count_words)\n"
          ]
        },
        {
          "output_type": "stream",
          "name": "stdout",
          "text": [
            "                                                  review sentiment  \\\n",
            "0      one reviewers mentioned watching oz episode yo...  positive   \n",
            "1      wonderful little production br br filming tech...  positive   \n",
            "2      thought wonderful way spend time hot summer we...  positive   \n",
            "4      petter matteis love time money visually stunni...  positive   \n",
            "5      probably alltime favorite movie story selfless...  positive   \n",
            "...                                                  ...       ...   \n",
            "49983  loved fan original series always wondered back...  positive   \n",
            "49985  imaginary heroes clearly best film year comple...  positive   \n",
            "49989  got one weeks ago love modern light filled tru...  positive   \n",
            "49992  john garfield plays marine blinded grenade fig...  positive   \n",
            "49995  thought movie right good job wasnt creative or...  positive   \n",
            "\n",
            "       word_count                                   word_frequencies  \\\n",
            "0             306  {'one': 1, 'of': 7, 'the': 16, 'other': 2, 're...   \n",
            "1             162  {'a': 4, 'wonderful': 1, 'little': 2, 'product...   \n",
            "2             165  {'i': 3, 'thought': 2, 'this': 5, 'was': 4, 'a...   \n",
            "4             230  {'petter': 1, 'matteis': 2, 'love': 1, 'in': 6...   \n",
            "5             117  {'probably': 1, 'my': 3, 'alltime': 1, 'favori...   \n",
            "...           ...                                                ...   \n",
            "49983         129  {'i': 7, 'loved': 1, 'it': 3, 'having': 1, 'be...   \n",
            "49985         216  {'imaginary': 1, 'heroes': 1, 'is': 3, 'clearl...   \n",
            "49989         170  {'i': 1, 'got': 1, 'this': 5, 'one': 1, 'a': 3...   \n",
            "49992         170  {'john': 1, 'garfield': 2, 'plays': 1, 'a': 11...   \n",
            "49995         192  {'i': 5, 'thought': 1, 'this': 5, 'movie': 4, ...   \n",
            "\n",
            "       word_count_without_stopwords  \n",
            "0                               170  \n",
            "1                                90  \n",
            "2                                87  \n",
            "4                               130  \n",
            "5                                56  \n",
            "...                             ...  \n",
            "49983                            66  \n",
            "49985                           106  \n",
            "49989                            92  \n",
            "49992                            91  \n",
            "49995                            86  \n",
            "\n",
            "[25000 rows x 5 columns]\n",
            "                                                  review sentiment  \\\n",
            "3      basically theres family little boy jake thinks...  negative   \n",
            "7      show amazing fresh innovative idea first aired...  negative   \n",
            "8      encouraged positive comments film looking forw...  negative   \n",
            "10     phil alien one quirky films humour based aroun...  negative   \n",
            "11     saw movie came recall scariest scene big bird ...  negative   \n",
            "...                                                  ...       ...   \n",
            "49994  typical junk comedybr br almost laughs genuine...  negative   \n",
            "49996  bad plot bad dialogue bad acting idiotic direc...  negative   \n",
            "49997  catholic taught parochial elementary schools n...  negative   \n",
            "49998  im going disagree previous comment side maltin...  negative   \n",
            "49999  one expects star trek movies high art fans exp...  negative   \n",
            "\n",
            "       word_count                                   word_frequencies  \\\n",
            "3             133  {'basically': 1, 'theres': 2, 'a': 10, 'family...   \n",
            "7             168  {'this': 4, 'show': 6, 'was': 2, 'an': 1, 'ama...   \n",
            "8             125  {'encouraged': 1, 'by': 1, 'the': 7, 'positive...   \n",
            "10             96  {'phil': 1, 'the': 5, 'alien': 1, 'is': 3, 'on...   \n",
            "11            178  {'i': 9, 'saw': 2, 'this': 1, 'movie': 1, 'whe...   \n",
            "...           ...                                                ...   \n",
            "49994         133  {'this': 6, 'is': 7, 'your': 1, 'typical': 1, ...   \n",
            "49996         112  {'bad': 4, 'plot': 1, 'dialogue': 1, 'acting':...   \n",
            "49997         229  {'i': 5, 'am': 2, 'a': 7, 'catholic': 3, 'taug...   \n",
            "49998         211  {'im': 1, 'going': 1, 'to': 6, 'have': 1, 'dis...   \n",
            "49999         126  {'no': 1, 'one': 1, 'expects': 1, 'the': 12, '...   \n",
            "\n",
            "       word_count_without_stopwords  \n",
            "3                                70  \n",
            "7                                79  \n",
            "8                                65  \n",
            "10                               55  \n",
            "11                               84  \n",
            "...                             ...  \n",
            "49994                            68  \n",
            "49996                            58  \n",
            "49997                           117  \n",
            "49998                           114  \n",
            "49999                            69  \n",
            "\n",
            "[25000 rows x 5 columns]\n"
          ]
        },
        {
          "output_type": "stream",
          "name": "stderr",
          "text": [
            "<ipython-input-75-d742d53fb2d8>:5: SettingWithCopyWarning: \n",
            "A value is trying to be set on a copy of a slice from a DataFrame.\n",
            "Try using .loc[row_indexer,col_indexer] = value instead\n",
            "\n",
            "See the caveats in the documentation: https://pandas.pydata.org/pandas-docs/stable/user_guide/indexing.html#returning-a-view-versus-a-copy\n",
            "  neg['word_count_without_stopwords'] = neg['review'].apply(count_words)\n"
          ]
        }
      ],
      "source": [
        "def count_words(review):\n",
        "    words=review.split()\n",
        "    return len(words)\n",
        "pos['word_count_without_stopwords'] = pos['review'].apply(count_words)\n",
        "neg['word_count_without_stopwords'] = neg['review'].apply(count_words)\n",
        "print(pos)\n",
        "print(neg)"
      ]
    },
    {
      "cell_type": "code",
      "execution_count": 76,
      "id": "50be0c42",
      "metadata": {
        "colab": {
          "base_uri": "https://localhost:8080/"
        },
        "id": "50be0c42",
        "outputId": "3c47bff4-9018-4a52-e25e-daad6a557804"
      },
      "outputs": [
        {
          "output_type": "stream",
          "name": "stderr",
          "text": [
            "<ipython-input-76-ce62202377b3>:6: SettingWithCopyWarning: \n",
            "A value is trying to be set on a copy of a slice from a DataFrame.\n",
            "Try using .loc[row_indexer,col_indexer] = value instead\n",
            "\n",
            "See the caveats in the documentation: https://pandas.pydata.org/pandas-docs/stable/user_guide/indexing.html#returning-a-view-versus-a-copy\n",
            "  pos['word_frequencies_new'] = pos['review'].apply(wordfreq)\n"
          ]
        },
        {
          "output_type": "stream",
          "name": "stdout",
          "text": [
            "0        {'one': 1, 'reviewers': 1, 'mentioned': 1, 'wa...\n",
            "1        {'wonderful': 1, 'little': 2, 'production': 2,...\n",
            "2        {'thought': 2, 'wonderful': 1, 'way': 1, 'spen...\n",
            "4        {'petter': 1, 'matteis': 2, 'love': 1, 'time':...\n",
            "5        {'probably': 1, 'alltime': 1, 'favorite': 1, '...\n",
            "                               ...                        \n",
            "49983    {'loved': 1, 'fan': 1, 'original': 1, 'series'...\n",
            "49985    {'imaginary': 1, 'heroes': 1, 'clearly': 1, 'b...\n",
            "49989    {'got': 1, 'one': 1, 'weeks': 1, 'ago': 1, 'lo...\n",
            "49992    {'john': 1, 'garfield': 2, 'plays': 1, 'marine...\n",
            "49995    {'thought': 1, 'movie': 4, 'right': 1, 'good':...\n",
            "Name: word_frequencies_new, Length: 25000, dtype: object\n",
            "3        {'basically': 1, 'theres': 2, 'family': 1, 'li...\n",
            "7        {'show': 6, 'amazing': 1, 'fresh': 1, 'innovat...\n",
            "8        {'encouraged': 1, 'positive': 1, 'comments': 1...\n",
            "10       {'phil': 1, 'alien': 1, 'one': 1, 'quirky': 1,...\n",
            "11       {'saw': 2, 'movie': 1, 'came': 2, 'recall': 1,...\n",
            "                               ...                        \n",
            "49994    {'typical': 1, 'junk': 1, 'comedybr': 1, 'br':...\n",
            "49996    {'bad': 4, 'plot': 1, 'dialogue': 1, 'acting':...\n",
            "49997    {'catholic': 3, 'taught': 2, 'parochial': 1, '...\n",
            "49998    {'im': 1, 'going': 1, 'disagree': 1, 'previous...\n",
            "49999    {'one': 1, 'expects': 1, 'star': 1, 'trek': 1,...\n",
            "Name: word_frequencies_new, Length: 25000, dtype: object\n"
          ]
        },
        {
          "output_type": "stream",
          "name": "stderr",
          "text": [
            "<ipython-input-76-ce62202377b3>:7: SettingWithCopyWarning: \n",
            "A value is trying to be set on a copy of a slice from a DataFrame.\n",
            "Try using .loc[row_indexer,col_indexer] = value instead\n",
            "\n",
            "See the caveats in the documentation: https://pandas.pydata.org/pandas-docs/stable/user_guide/indexing.html#returning-a-view-versus-a-copy\n",
            "  neg['word_frequencies_new'] = neg['review'].apply(wordfreq)\n"
          ]
        }
      ],
      "source": [
        "from collections import Counter\n",
        "import re\n",
        "def wordfreq(review):\n",
        "    words = review.split()\n",
        "    return Counter(words)\n",
        "pos['word_frequencies_new'] = pos['review'].apply(wordfreq)\n",
        "neg['word_frequencies_new'] = neg['review'].apply(wordfreq)\n",
        "print(pos['word_frequencies_new'])\n",
        "print(neg['word_frequencies_new'])"
      ]
    },
    {
      "cell_type": "code",
      "source": [
        "print(pos)\n",
        "print(neg)"
      ],
      "metadata": {
        "colab": {
          "base_uri": "https://localhost:8080/"
        },
        "id": "iOJi5TRSSi9D",
        "outputId": "5133fba6-3a83-4532-e5b7-e93f5ef1853a"
      },
      "id": "iOJi5TRSSi9D",
      "execution_count": 77,
      "outputs": [
        {
          "output_type": "stream",
          "name": "stdout",
          "text": [
            "                                                  review sentiment  \\\n",
            "0      one reviewers mentioned watching oz episode yo...  positive   \n",
            "1      wonderful little production br br filming tech...  positive   \n",
            "2      thought wonderful way spend time hot summer we...  positive   \n",
            "4      petter matteis love time money visually stunni...  positive   \n",
            "5      probably alltime favorite movie story selfless...  positive   \n",
            "...                                                  ...       ...   \n",
            "49983  loved fan original series always wondered back...  positive   \n",
            "49985  imaginary heroes clearly best film year comple...  positive   \n",
            "49989  got one weeks ago love modern light filled tru...  positive   \n",
            "49992  john garfield plays marine blinded grenade fig...  positive   \n",
            "49995  thought movie right good job wasnt creative or...  positive   \n",
            "\n",
            "       word_count                                   word_frequencies  \\\n",
            "0             306  {'one': 1, 'of': 7, 'the': 16, 'other': 2, 're...   \n",
            "1             162  {'a': 4, 'wonderful': 1, 'little': 2, 'product...   \n",
            "2             165  {'i': 3, 'thought': 2, 'this': 5, 'was': 4, 'a...   \n",
            "4             230  {'petter': 1, 'matteis': 2, 'love': 1, 'in': 6...   \n",
            "5             117  {'probably': 1, 'my': 3, 'alltime': 1, 'favori...   \n",
            "...           ...                                                ...   \n",
            "49983         129  {'i': 7, 'loved': 1, 'it': 3, 'having': 1, 'be...   \n",
            "49985         216  {'imaginary': 1, 'heroes': 1, 'is': 3, 'clearl...   \n",
            "49989         170  {'i': 1, 'got': 1, 'this': 5, 'one': 1, 'a': 3...   \n",
            "49992         170  {'john': 1, 'garfield': 2, 'plays': 1, 'a': 11...   \n",
            "49995         192  {'i': 5, 'thought': 1, 'this': 5, 'movie': 4, ...   \n",
            "\n",
            "       word_count_without_stopwords  \\\n",
            "0                               170   \n",
            "1                                90   \n",
            "2                                87   \n",
            "4                               130   \n",
            "5                                56   \n",
            "...                             ...   \n",
            "49983                            66   \n",
            "49985                           106   \n",
            "49989                            92   \n",
            "49992                            91   \n",
            "49995                            86   \n",
            "\n",
            "                                    word_frequencies_new  \n",
            "0      {'one': 1, 'reviewers': 1, 'mentioned': 1, 'wa...  \n",
            "1      {'wonderful': 1, 'little': 2, 'production': 2,...  \n",
            "2      {'thought': 2, 'wonderful': 1, 'way': 1, 'spen...  \n",
            "4      {'petter': 1, 'matteis': 2, 'love': 1, 'time':...  \n",
            "5      {'probably': 1, 'alltime': 1, 'favorite': 1, '...  \n",
            "...                                                  ...  \n",
            "49983  {'loved': 1, 'fan': 1, 'original': 1, 'series'...  \n",
            "49985  {'imaginary': 1, 'heroes': 1, 'clearly': 1, 'b...  \n",
            "49989  {'got': 1, 'one': 1, 'weeks': 1, 'ago': 1, 'lo...  \n",
            "49992  {'john': 1, 'garfield': 2, 'plays': 1, 'marine...  \n",
            "49995  {'thought': 1, 'movie': 4, 'right': 1, 'good':...  \n",
            "\n",
            "[25000 rows x 6 columns]\n",
            "                                                  review sentiment  \\\n",
            "3      basically theres family little boy jake thinks...  negative   \n",
            "7      show amazing fresh innovative idea first aired...  negative   \n",
            "8      encouraged positive comments film looking forw...  negative   \n",
            "10     phil alien one quirky films humour based aroun...  negative   \n",
            "11     saw movie came recall scariest scene big bird ...  negative   \n",
            "...                                                  ...       ...   \n",
            "49994  typical junk comedybr br almost laughs genuine...  negative   \n",
            "49996  bad plot bad dialogue bad acting idiotic direc...  negative   \n",
            "49997  catholic taught parochial elementary schools n...  negative   \n",
            "49998  im going disagree previous comment side maltin...  negative   \n",
            "49999  one expects star trek movies high art fans exp...  negative   \n",
            "\n",
            "       word_count                                   word_frequencies  \\\n",
            "3             133  {'basically': 1, 'theres': 2, 'a': 10, 'family...   \n",
            "7             168  {'this': 4, 'show': 6, 'was': 2, 'an': 1, 'ama...   \n",
            "8             125  {'encouraged': 1, 'by': 1, 'the': 7, 'positive...   \n",
            "10             96  {'phil': 1, 'the': 5, 'alien': 1, 'is': 3, 'on...   \n",
            "11            178  {'i': 9, 'saw': 2, 'this': 1, 'movie': 1, 'whe...   \n",
            "...           ...                                                ...   \n",
            "49994         133  {'this': 6, 'is': 7, 'your': 1, 'typical': 1, ...   \n",
            "49996         112  {'bad': 4, 'plot': 1, 'dialogue': 1, 'acting':...   \n",
            "49997         229  {'i': 5, 'am': 2, 'a': 7, 'catholic': 3, 'taug...   \n",
            "49998         211  {'im': 1, 'going': 1, 'to': 6, 'have': 1, 'dis...   \n",
            "49999         126  {'no': 1, 'one': 1, 'expects': 1, 'the': 12, '...   \n",
            "\n",
            "       word_count_without_stopwords  \\\n",
            "3                                70   \n",
            "7                                79   \n",
            "8                                65   \n",
            "10                               55   \n",
            "11                               84   \n",
            "...                             ...   \n",
            "49994                            68   \n",
            "49996                            58   \n",
            "49997                           117   \n",
            "49998                           114   \n",
            "49999                            69   \n",
            "\n",
            "                                    word_frequencies_new  \n",
            "3      {'basically': 1, 'theres': 2, 'family': 1, 'li...  \n",
            "7      {'show': 6, 'amazing': 1, 'fresh': 1, 'innovat...  \n",
            "8      {'encouraged': 1, 'positive': 1, 'comments': 1...  \n",
            "10     {'phil': 1, 'alien': 1, 'one': 1, 'quirky': 1,...  \n",
            "11     {'saw': 2, 'movie': 1, 'came': 2, 'recall': 1,...  \n",
            "...                                                  ...  \n",
            "49994  {'typical': 1, 'junk': 1, 'comedybr': 1, 'br':...  \n",
            "49996  {'bad': 4, 'plot': 1, 'dialogue': 1, 'acting':...  \n",
            "49997  {'catholic': 3, 'taught': 2, 'parochial': 1, '...  \n",
            "49998  {'im': 1, 'going': 1, 'disagree': 1, 'previous...  \n",
            "49999  {'one': 1, 'expects': 1, 'star': 1, 'trek': 1,...  \n",
            "\n",
            "[25000 rows x 6 columns]\n"
          ]
        }
      ]
    },
    {
      "cell_type": "code",
      "source": [
        "\n",
        "import re\n",
        "def remove_space(review):\n",
        "    remove=re.sub(r'\\s+','',review)\n",
        "    return remove\n",
        "pos['review'] = pos['review'].apply(remove_space)\n",
        "neg['review'] = neg['review'].apply(remove_space)\n",
        "print(pos, neg)"
      ],
      "metadata": {
        "colab": {
          "base_uri": "https://localhost:8080/"
        },
        "id": "cn-ftv8yMpNx",
        "outputId": "a9cc2625-dcd9-4ebc-8b47-1ca45a1f2461"
      },
      "id": "cn-ftv8yMpNx",
      "execution_count": 78,
      "outputs": [
        {
          "output_type": "stream",
          "name": "stderr",
          "text": [
            "<ipython-input-78-1230120f425a>:5: SettingWithCopyWarning: \n",
            "A value is trying to be set on a copy of a slice from a DataFrame.\n",
            "Try using .loc[row_indexer,col_indexer] = value instead\n",
            "\n",
            "See the caveats in the documentation: https://pandas.pydata.org/pandas-docs/stable/user_guide/indexing.html#returning-a-view-versus-a-copy\n",
            "  pos['review'] = pos['review'].apply(remove_space)\n"
          ]
        },
        {
          "output_type": "stream",
          "name": "stdout",
          "text": [
            "                                                  review sentiment  \\\n",
            "0      onereviewersmentionedwatchingozepisodeyoullhoo...  positive   \n",
            "1      wonderfullittleproductionbrbrfilmingtechniqueu...  positive   \n",
            "2      thoughtwonderfulwayspendtimehotsummerweekendsi...  positive   \n",
            "4      pettermatteislovetimemoneyvisuallystunningfilm...  positive   \n",
            "5      probablyalltimefavoritemoviestoryselflessnesss...  positive   \n",
            "...                                                  ...       ...   \n",
            "49983  lovedfanoriginalseriesalwayswonderedbackstoryw...  positive   \n",
            "49985  imaginaryheroesclearlybestfilmyearcompleteutte...  positive   \n",
            "49989  gotoneweeksagolovemodernlightfilledtruecomplex...  positive   \n",
            "49992  johngarfieldplaysmarineblindedgrenadefightingg...  positive   \n",
            "49995  thoughtmovierightgoodjobwasntcreativeoriginalf...  positive   \n",
            "\n",
            "       word_count                                   word_frequencies  \\\n",
            "0             306  {'one': 1, 'of': 7, 'the': 16, 'other': 2, 're...   \n",
            "1             162  {'a': 4, 'wonderful': 1, 'little': 2, 'product...   \n",
            "2             165  {'i': 3, 'thought': 2, 'this': 5, 'was': 4, 'a...   \n",
            "4             230  {'petter': 1, 'matteis': 2, 'love': 1, 'in': 6...   \n",
            "5             117  {'probably': 1, 'my': 3, 'alltime': 1, 'favori...   \n",
            "...           ...                                                ...   \n",
            "49983         129  {'i': 7, 'loved': 1, 'it': 3, 'having': 1, 'be...   \n",
            "49985         216  {'imaginary': 1, 'heroes': 1, 'is': 3, 'clearl...   \n",
            "49989         170  {'i': 1, 'got': 1, 'this': 5, 'one': 1, 'a': 3...   \n",
            "49992         170  {'john': 1, 'garfield': 2, 'plays': 1, 'a': 11...   \n",
            "49995         192  {'i': 5, 'thought': 1, 'this': 5, 'movie': 4, ...   \n",
            "\n",
            "       word_count_without_stopwords  \\\n",
            "0                               170   \n",
            "1                                90   \n",
            "2                                87   \n",
            "4                               130   \n",
            "5                                56   \n",
            "...                             ...   \n",
            "49983                            66   \n",
            "49985                           106   \n",
            "49989                            92   \n",
            "49992                            91   \n",
            "49995                            86   \n",
            "\n",
            "                                    word_frequencies_new  \n",
            "0      {'one': 1, 'reviewers': 1, 'mentioned': 1, 'wa...  \n",
            "1      {'wonderful': 1, 'little': 2, 'production': 2,...  \n",
            "2      {'thought': 2, 'wonderful': 1, 'way': 1, 'spen...  \n",
            "4      {'petter': 1, 'matteis': 2, 'love': 1, 'time':...  \n",
            "5      {'probably': 1, 'alltime': 1, 'favorite': 1, '...  \n",
            "...                                                  ...  \n",
            "49983  {'loved': 1, 'fan': 1, 'original': 1, 'series'...  \n",
            "49985  {'imaginary': 1, 'heroes': 1, 'clearly': 1, 'b...  \n",
            "49989  {'got': 1, 'one': 1, 'weeks': 1, 'ago': 1, 'lo...  \n",
            "49992  {'john': 1, 'garfield': 2, 'plays': 1, 'marine...  \n",
            "49995  {'thought': 1, 'movie': 4, 'right': 1, 'good':...  \n",
            "\n",
            "[25000 rows x 6 columns]                                                   review sentiment  \\\n",
            "3      basicallytheresfamilylittleboyjakethinkstheres...  negative   \n",
            "7      showamazingfreshinnovativeideafirstairedfirsty...  negative   \n",
            "8      encouragedpositivecommentsfilmlookingforwardwa...  negative   \n",
            "10     philalienonequirkyfilmshumourbasedaroundoddnes...  negative   \n",
            "11     sawmoviecamerecallscariestscenebigbirdeatingme...  negative   \n",
            "...                                                  ...       ...   \n",
            "49994  typicaljunkcomedybrbralmostlaughsgenuinemoment...  negative   \n",
            "49996  badplotbaddialoguebadactingidioticdirectingann...  negative   \n",
            "49997  catholictaughtparochialelementaryschoolsnunsta...  negative   \n",
            "49998  imgoingdisagreepreviouscommentsidemaltinonesec...  negative   \n",
            "49999  oneexpectsstartrekmovieshighartfansexpectmovie...  negative   \n",
            "\n",
            "       word_count                                   word_frequencies  \\\n",
            "3             133  {'basically': 1, 'theres': 2, 'a': 10, 'family...   \n",
            "7             168  {'this': 4, 'show': 6, 'was': 2, 'an': 1, 'ama...   \n",
            "8             125  {'encouraged': 1, 'by': 1, 'the': 7, 'positive...   \n",
            "10             96  {'phil': 1, 'the': 5, 'alien': 1, 'is': 3, 'on...   \n",
            "11            178  {'i': 9, 'saw': 2, 'this': 1, 'movie': 1, 'whe...   \n",
            "...           ...                                                ...   \n",
            "49994         133  {'this': 6, 'is': 7, 'your': 1, 'typical': 1, ...   \n",
            "49996         112  {'bad': 4, 'plot': 1, 'dialogue': 1, 'acting':...   \n",
            "49997         229  {'i': 5, 'am': 2, 'a': 7, 'catholic': 3, 'taug...   \n",
            "49998         211  {'im': 1, 'going': 1, 'to': 6, 'have': 1, 'dis...   \n",
            "49999         126  {'no': 1, 'one': 1, 'expects': 1, 'the': 12, '...   \n",
            "\n",
            "       word_count_without_stopwords  \\\n",
            "3                                70   \n",
            "7                                79   \n",
            "8                                65   \n",
            "10                               55   \n",
            "11                               84   \n",
            "...                             ...   \n",
            "49994                            68   \n",
            "49996                            58   \n",
            "49997                           117   \n",
            "49998                           114   \n",
            "49999                            69   \n",
            "\n",
            "                                    word_frequencies_new  \n",
            "3      {'basically': 1, 'theres': 2, 'family': 1, 'li...  \n",
            "7      {'show': 6, 'amazing': 1, 'fresh': 1, 'innovat...  \n",
            "8      {'encouraged': 1, 'positive': 1, 'comments': 1...  \n",
            "10     {'phil': 1, 'alien': 1, 'one': 1, 'quirky': 1,...  \n",
            "11     {'saw': 2, 'movie': 1, 'came': 2, 'recall': 1,...  \n",
            "...                                                  ...  \n",
            "49994  {'typical': 1, 'junk': 1, 'comedybr': 1, 'br':...  \n",
            "49996  {'bad': 4, 'plot': 1, 'dialogue': 1, 'acting':...  \n",
            "49997  {'catholic': 3, 'taught': 2, 'parochial': 1, '...  \n",
            "49998  {'im': 1, 'going': 1, 'disagree': 1, 'previous...  \n",
            "49999  {'one': 1, 'expects': 1, 'star': 1, 'trek': 1,...  \n",
            "\n",
            "[25000 rows x 6 columns]\n"
          ]
        },
        {
          "output_type": "stream",
          "name": "stderr",
          "text": [
            "<ipython-input-78-1230120f425a>:6: SettingWithCopyWarning: \n",
            "A value is trying to be set on a copy of a slice from a DataFrame.\n",
            "Try using .loc[row_indexer,col_indexer] = value instead\n",
            "\n",
            "See the caveats in the documentation: https://pandas.pydata.org/pandas-docs/stable/user_guide/indexing.html#returning-a-view-versus-a-copy\n",
            "  neg['review'] = neg['review'].apply(remove_space)\n"
          ]
        }
      ]
    },
    {
      "cell_type": "code",
      "execution_count": 79,
      "id": "9d935300",
      "metadata": {
        "id": "9d935300"
      },
      "outputs": [],
      "source": [
        "pos.to_csv('positive_sentiment.csv',index=False,sep=',')\n",
        "neg.to_csv('negative_sentiment.csv',index=False,sep=',')"
      ]
    }
  ],
  "metadata": {
    "kernelspec": {
      "display_name": "Python 3 (ipykernel)",
      "language": "python",
      "name": "python3"
    },
    "language_info": {
      "codemirror_mode": {
        "name": "ipython",
        "version": 3
      },
      "file_extension": ".py",
      "mimetype": "text/x-python",
      "name": "python",
      "nbconvert_exporter": "python",
      "pygments_lexer": "ipython3",
      "version": "3.11.4"
    },
    "colab": {
      "provenance": [],
      "include_colab_link": true
    }
  },
  "nbformat": 4,
  "nbformat_minor": 5
}